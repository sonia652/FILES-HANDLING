{
  "nbformat": 4,
  "nbformat_minor": 0,
  "metadata": {
    "colab": {
      "provenance": []
    },
    "kernelspec": {
      "name": "python3",
      "display_name": "Python 3"
    },
    "language_info": {
      "name": "python"
    }
  },
  "cells": [
    {
      "cell_type": "markdown",
      "source": [
        "ASSIGNMENT : Files, exceptional handling, logging and memory management"
      ],
      "metadata": {
        "id": "qaLpV9I0OoyC"
      }
    },
    {
      "cell_type": "markdown",
      "source": [
        "Q1. What is the difference between interpreted and compiled languages?\n",
        "\n",
        "Ans 1.  Compiled languages\n",
        "Your entire source code is translated ahead of time into native machine code (binary) by a compiler—a standalone tool .\n",
        "\n",
        "You get an executable that runs directly on hardware, without needing the compiler at runtime .\n",
        "\n",
        "Examples include C, C++, Rust, Go .\n",
        "\n",
        "Pros:\n",
        "\n",
        "Fast performance thanks to direct execution.\n",
        "\n",
        "Compiler optimizations enhance speed and resource use.\n",
        "\n",
        "Cons:\n",
        "\n",
        "Need to recompile after changes.\n",
        "\n",
        "Binaries are platform-specific, requiring rebuilds for other OS/architectures .\n",
        "\n",
        "Interpreted languages\n",
        "Code is executed line-by-line (or chunk-by-chunk) by an interpreter at runtime .\n",
        "\n",
        "There's no separate build phase; the interpreter parses and runs your code immediately .\n",
        "\n",
        "Widely used examples: Python, JavaScript, Ruby, PHP.\n",
        "\n",
        "Pros:\n",
        "\n",
        "Super fast development cycle—write, run, debug instantly.\n",
        "\n",
        "Code is portable (works on any system with the interpreter) .\n",
        "\n",
        "Cons:\n",
        "\n",
        "Slower execution due to runtime translation overhead .\n",
        "\n",
        "You need the interpreter installed on any machine where you want to run your code."
      ],
      "metadata": {
        "id": "4qX_1cmbOuCs"
      }
    },
    {
      "cell_type": "markdown",
      "source": [
        "Q2.  What is exception handling in python?\n",
        "\n",
        "Ans 2.  Exception handling in Python is a powerful mechanism that lets you manage errors gracefully, maintain control flow, and ensure clean-up actions even when things go wrong."
      ],
      "metadata": {
        "id": "A1PIwpIkPT-X"
      }
    },
    {
      "cell_type": "markdown",
      "source": [
        "Q3. What is the purpose of finally block in exception handling?\n",
        "\n",
        "Ans 3.  In Python, the finally block in exception handling exists to ensure that specific code always runs, regardless of whether an exception was raised or not—making it essential for reliable cleanup and resource management."
      ],
      "metadata": {
        "id": "TEYO7P8sPfew"
      }
    },
    {
      "cell_type": "markdown",
      "source": [
        "Q4. What is logging in python ?\n",
        "\n",
        "Ans 4.   Python’s logging is a built-in module designed to record important runtime information—like events, errors, warnings, and debug messages—so developers can better monitor, debug, and analyze their applications. Unlike simple print() statements, logging offers structured output, adjustable verbosity, and multiple output destinations."
      ],
      "metadata": {
        "id": "C9rDGqx-PmBy"
      }
    },
    {
      "cell_type": "markdown",
      "source": [
        "Q5.  What is the significance of the _del_ method in python?                                           \n",
        "  Ans5.  The _del_ method in Python is known as a destructor method. It is called automatically when an object is about to be destroyed (i.e., when there are no more references to the object and it's ready for garbage collection)."
      ],
      "metadata": {
        "id": "sB0VYBKjPukp"
      }
    },
    {
      "cell_type": "markdown",
      "source": [
        "Q6.  What is the difference import and from ...import in python ?                                 \n",
        "\n",
        " Ans 6.  import brings in the whole module; you access contents with module.name.\n",
        "\n",
        "from ... import ... brings in specific parts directly; you access them by name only.\n",
        "\n",
        "Use import module when you need many things from the module or want clarity.\n",
        "Use from ... import ... when you need only one or two specific things and want shorter code."
      ],
      "metadata": {
        "id": "_H7bQaQuP6Un"
      }
    },
    {
      "cell_type": "markdown",
      "source": [
        "Q7. How can you handle multiple exceptions in pythons?                                                    \n",
        "   Ans7.  Use multiple except blocks for clarity.\n",
        "\n",
        "Use a tuple of exceptions for similar handling.\n",
        "\n",
        "Use Exception to catch all errors (only when necessary)."
      ],
      "metadata": {
        "id": "fhmltxOCQEnT"
      }
    },
    {
      "cell_type": "markdown",
      "source": [
        "Q8.  What is the purpose of the with statement when handling files in python?                    \n",
        " Ans8.  The with statement in Python is used to simplify file handling by automatically managing resources like file objects. It ensures that the file is properly closed after its block of code is executed — even if an exception occurs."
      ],
      "metadata": {
        "id": "G52jIEUqQLs0"
      }
    },
    {
      "cell_type": "markdown",
      "source": [
        "Q9.  What is the difference between multithreading and multiprocessing?                      \n",
        " Ans9.  Multithreading = Multiple threads, shared memory, better for I/O-bound.\n",
        "\n",
        "Multiprocessing = Multiple processes, separate memory, better for CPU-bound."
      ],
      "metadata": {
        "id": "hdaqcZ0bQV-U"
      }
    },
    {
      "cell_type": "markdown",
      "source": [
        "Q10.  What are the advantages of using logging in a program?                                                   \n",
        "  Ans10.    Logging makes a program more maintainable, debuggable, professional, and production-ready."
      ],
      "metadata": {
        "id": "3YfF38PSQdBn"
      }
    },
    {
      "cell_type": "markdown",
      "source": [
        "Q11. What is memory management in Python?                                                                          \n",
        " Ans11. Memory management in Python refers to the process by which Python allocates, uses, and releases memory during the execution of a program."
      ],
      "metadata": {
        "id": "B50qxYonQk9d"
      }
    },
    {
      "cell_type": "markdown",
      "source": [
        "Q12. What are the basic steps involved in exception handling in Python?                                   \n",
        " Ans12.  Exception handling in Python is done using try, except, else, and finally blocks."
      ],
      "metadata": {
        "id": "M4YUycTLRJBU"
      }
    },
    {
      "cell_type": "markdown",
      "source": [
        "Q13.  Why is memory management important in Python?                                                   \n",
        " Ans13.  Memory management in Python is essential for writing reliable, efficient, and scalable programs. It helps avoid memory leaks, optimizes performance, and ensures that applications use resources wisely."
      ],
      "metadata": {
        "id": "-Uiyf-5RRTdk"
      }
    },
    {
      "cell_type": "markdown",
      "source": [
        "Q14. What is the role of try and except in exception handling?                                               \n",
        " Ans14.  try: Protects risky code.\n",
        "\n",
        "except: Catches and handles specific errors to prevent program crashes."
      ],
      "metadata": {
        "id": "DiyvM4JRRWdE"
      }
    },
    {
      "cell_type": "markdown",
      "source": [
        "Q15.  How does Python's garbage collection system work?                                                              \n",
        " Ans15.  Python’s garbage collection (GC) system is responsible for automatically managing memory. It identifies and removes objects from memory that are no longer in use so the memory can be reused efficiently."
      ],
      "metadata": {
        "id": "rsUy-AelRfdp"
      }
    },
    {
      "cell_type": "markdown",
      "source": [
        "Q16. What is the purpose of the else block in exception handling?                                                  \n",
        " Ans16.  The else block in exception handling is used to define code that should run only if no exception occurs in the try block."
      ],
      "metadata": {
        "id": "ktex6aoARo3q"
      }
    },
    {
      "cell_type": "markdown",
      "source": [
        "Q17.  What are the common logging levels in Python?                                                                        \n",
        "\n",
        "Ans17. Python’s logging module provides different logging levels to categorize the severity or importance of messages. These levels help developers filter and manage logs effectively."
      ],
      "metadata": {
        "id": "HBZ1pwlFRvh9"
      }
    },
    {
      "cell_type": "markdown",
      "source": [
        "Q18.  What is the difference between os.fork() and multiprocessing in Python?                       \n",
        " Ans18.  os.fork() = You handle everything manually.\n",
        "\n",
        "multiprocessing = Python helps you manage processes easily and safely."
      ],
      "metadata": {
        "id": "DfawitOJR5U0"
      }
    },
    {
      "cell_type": "markdown",
      "source": [
        "Q19. What is the importance of closing a file in Python?                                                                \n",
        " Ans19.  Closing a file ensures data safety, frees resources, prevents errors, and keeps your code clean and reliable."
      ],
      "metadata": {
        "id": "y1Xm1MWAR_N_"
      }
    },
    {
      "cell_type": "markdown",
      "source": [
        "Q20. What is the difference between file.read() and file.readline() in Python?                       \n",
        " Ans20.  file.read()\n",
        "Reads the entire file content at once.\n",
        "\n",
        "Returns the content as one single string.\n",
        "\n",
        "Suitable for small files.\n",
        "\n",
        "Can take an optional argument to read a specific number of characters.\n",
        "\n",
        "Not memory-efficient for very large files.\n",
        "\n",
        "file.readline()\n",
        "Reads the file one line at a time.\n",
        "\n",
        "Returns each line as a string, including the \\n newline character.\n",
        "\n",
        "Suitable for large files where reading line-by-line is needed.\n",
        "\n",
        "Can be used repeatedly to read the next line on each call.\n",
        "\n",
        "Memory-efficient as it reads only one line at a time."
      ],
      "metadata": {
        "id": "KKGUG7O1SG4l"
      }
    },
    {
      "cell_type": "markdown",
      "source": [
        "Q21.  What is the logging module in Python used for?                                                              \n",
        "  Ans21.  The logging module in Python is used to record messages about a program’s execution. These messages can help track the flow of the program, debug issues, and monitor performance."
      ],
      "metadata": {
        "id": "lpycyU3-SQ8T"
      }
    },
    {
      "cell_type": "markdown",
      "source": [
        "Q22.  What is the os module in Python used for in file handling?                                                      \n",
        " Ans22. The os module in Python provides functions to interact with the operating system, especially for working with files and directories."
      ],
      "metadata": {
        "id": "zP_2zx0YSX4m"
      }
    },
    {
      "cell_type": "markdown",
      "source": [
        "Q23.  What are the challenges associated with memory management in Python?                        \n",
        " Ans23.  While Python simplifies memory management through reference counting and garbage collection, challenges like circular references, memory fragmentation, and leaks from lingering references can still occur and require careful coding practices."
      ],
      "metadata": {
        "id": "hUwgJfZxSego"
      }
    },
    {
      "cell_type": "markdown",
      "source": [
        "Q24.  How do you raise an exception manually in Python?                                                      \n",
        " Ans24.  In Python, you can manually raise an exception using the raise keyword."
      ],
      "metadata": {
        "id": "zp8Bt4mjSkB1"
      }
    },
    {
      "cell_type": "markdown",
      "source": [
        "Q25.  Why is it important to use multithreading in certain applications?                        \n",
        " Ans25.  Multithreading is important in specific types of applications because it allows a program to perform multiple tasks concurrently within the same process."
      ],
      "metadata": {
        "id": "iRfH-dngSryu"
      }
    },
    {
      "cell_type": "markdown",
      "source": [
        "#PRACTICAL QUESTIONS"
      ],
      "metadata": {
        "id": "40mnRtEz8sqp"
      }
    },
    {
      "cell_type": "code",
      "source": [
        "#QUESTION 1.  How can you open a file for writing in Python and write a string to it ?\n",
        "\n",
        "with open(\"file.txt\", \"w\") as f:\n",
        "    f.write(\"Your string here\")\n",
        "\n",
        "✔️ 'w' mode opens the file for writing (creates or overwrites).\n",
        "✔️ write() writes the string.\n",
        "✔️ with automatically closes the file."
      ],
      "metadata": {
        "id": "CQpPQday8yo4"
      },
      "execution_count": 1,
      "outputs": []
    },
    {
      "cell_type": "code",
      "source": [
        "#QUESTION 2. Write a Python program to read the contents of a file and print each line?\n",
        "\n",
        "# Open the file for reading\n",
        "with open(\"example.txt\", \"r\") as file:\n",
        "    # Loop through each line in the file\n",
        "    for line in file:\n",
        "        print(line, end=\"\")  # end=\"\" prevents extra newlines\n",
        "\n",
        "✔️ open(\"example.txt\", \"r\") opens the file in read mode\n",
        "✔️ for line in file loops through each line\n",
        "✔️ print(line, end=\"\") prints each line without adding an extra newline\n"
      ],
      "metadata": {
        "id": "zPq-pOwk9sjG"
      },
      "execution_count": null,
      "outputs": []
    },
    {
      "cell_type": "code",
      "source": [
        "#QUESTION  3.How would you handle a case where the file doesn't exist while trying to open it for reading?\n",
        "\n",
        "try:\n",
        "    with open(\"example.txt\", \"r\") as file:\n",
        "        contents = file.read()\n",
        "        print(contents)\n",
        "except FileNotFoundError:\n",
        "    print(\"The file does not exist.\")\n",
        "\n",
        "✔️ try attempts to open and read the file\n",
        "✔️ except FileNotFoundError handles the error if the file is missing, preventing your program from crashing."
      ],
      "metadata": {
        "id": "COHeAtQ1-QqB"
      },
      "execution_count": null,
      "outputs": []
    },
    {
      "cell_type": "code",
      "source": [
        "#QUESTION 4. Write a Python script that reads from one file and writes its content to another file.\n",
        "\n",
        "# Open the source file for reading\n",
        "with open(\"source.txt\", \"r\") as source_file:\n",
        "    # Read all content\n",
        "    content = source_file.read()\n",
        "\n",
        "# Open the destination file for writing\n",
        "with open(\"destination.txt\", \"w\") as dest_file:\n",
        "    # Write the content to the destination file\n",
        "    dest_file.write(content)\n",
        "\n",
        "✔️ Opens source.txt in read mode\n",
        "✔️ Reads its content\n",
        "✔️ Opens destination.txt in write mode\n",
        "✔️ Writes the read content to it"
      ],
      "metadata": {
        "id": "7Kr-2gwy-_bR"
      },
      "execution_count": null,
      "outputs": []
    },
    {
      "cell_type": "code",
      "source": [
        "#QUESTION 5. How would you catch and handle division by zero error in Python .\n",
        "\n",
        "try:\n",
        "    result = 10 / 0\n",
        "except ZeroDivisionError:\n",
        "    print(\"Cannot divide by zero.\")\n",
        "\n"
      ],
      "metadata": {
        "id": "8xDNLloT_WGU"
      },
      "execution_count": null,
      "outputs": []
    },
    {
      "cell_type": "code",
      "source": [
        "#QUESTION 6.  Write a Python program that logs an error message to a log file when a division by zero exception occurs .\n",
        "\n",
        "try:\n",
        "    result = 10 / 0\n",
        "except ZeroDivisionError as e:\n",
        "    with open(\"error_log.txt\", \"a\") as log_file:\n",
        "        log_file.write(f\"Error: {e}\\n\")\n",
        "    print(\"Division by zero error logged.\")\n",
        "\n"
      ],
      "metadata": {
        "id": "EDbNDOBr_s4u"
      },
      "execution_count": null,
      "outputs": []
    },
    {
      "cell_type": "code",
      "source": [
        "#QUESTION 7.  How do you log information at different levels (INFO, ERROR, WARNING) in Python using the logging module.\n",
        "\n",
        "\n",
        "import logging\n",
        "\n",
        "# Configure logging\n",
        "logging.basicConfig(level=logging.INFO, filename=\"app.log\", filemode=\"a\",\n",
        "                    format=\"%(levelname)s: %(message)s\")\n",
        "\n",
        "# Log messages at different levels\n",
        "logging.info(\"This is an info message.\")\n",
        "logging.warning(\"This is a warning message.\")\n",
        "logging.error(\"This is an error message.\")\n"
      ],
      "metadata": {
        "id": "oT41fvKV_-3M"
      },
      "execution_count": null,
      "outputs": []
    },
    {
      "cell_type": "code",
      "source": [
        "#QUESTION 8.  Write a program to handle a file opening error using exception handling.\n",
        "\n",
        "try:\n",
        "    with open(\"nonexistent_file.txt\", \"r\") as file:\n",
        "        content = file.read()\n",
        "        print(content)\n",
        "except FileNotFoundError:\n",
        "    print(\"Error: The file does not exist.\")\n"
      ],
      "metadata": {
        "id": "Zoqj-m5bAbJy"
      },
      "execution_count": null,
      "outputs": []
    },
    {
      "cell_type": "code",
      "source": [
        "#QUESTION 9. How can you read a file line by line and store its content in a list in Python.\n",
        "\n",
        "lines = []\n",
        "with open(\"example.txt\", \"r\") as file:\n",
        "    for line in file:\n",
        "        lines.append(line)\n",
        "\n"
      ],
      "metadata": {
        "id": "pS__j4EYAtOA"
      },
      "execution_count": null,
      "outputs": []
    },
    {
      "cell_type": "code",
      "source": [
        "#QUESTION 10. How can you append data to an existing file in Python.\n",
        "\n",
        "with open(\"example.txt\", \"a\") as file:\n",
        "    file.write(\"This is the appended data.\\n\")\n"
      ],
      "metadata": {
        "id": "AMuAmVENA8_n"
      },
      "execution_count": null,
      "outputs": []
    },
    {
      "cell_type": "code",
      "source": [
        "#QUESTION 11. Write a Python program that uses a try-except block to handle an error when attempting to access a dictionary key that doesn't exist.\n",
        "\n",
        "my_dict = {\"name\": \"Alice\", \"age\": 25}\n",
        "\n",
        "try:\n",
        "    print(my_dict[\"city\"])\n",
        "except KeyError:\n",
        "    print(\"Error: Key 'city' does not exist in the dictionary.\")\n"
      ],
      "metadata": {
        "id": "k5RwuLqKBLxA"
      },
      "execution_count": null,
      "outputs": []
    },
    {
      "cell_type": "code",
      "source": [
        "#QUESTION 12 . Write a program that demonstrates using multiple except blocks to handle different types of exceptions .\n",
        "\n",
        "try:\n",
        "    num = int(input(\"Enter a number: \"))\n",
        "    result = 10 / num\n",
        "    my_list = [1, 2, 3]\n",
        "    print(my_list[5])\n",
        "except ValueError:\n",
        "    print(\"Error: Invalid input. Please enter a number.\")\n",
        "except ZeroDivisionError:\n",
        "    print(\"Error: Cannot divide by zero.\")\n",
        "except IndexError:\n",
        "    print(\"Error: List index out of range.\")\n"
      ],
      "metadata": {
        "id": "VPXp3bzFBdlE"
      },
      "execution_count": null,
      "outputs": []
    },
    {
      "cell_type": "code",
      "source": [
        "#QUESTION 13. How would you check if a file exists before attempting to read it in Python.\n",
        "\n",
        "import os\n",
        "\n",
        "if os.path.exists(\"example.txt\"):\n",
        "    with open(\"example.txt\", \"r\") as file:\n",
        "        content = file.read()\n",
        "        print(content)\n",
        "else:\n",
        "    print(\"File does not exist.\")\n"
      ],
      "metadata": {
        "id": "dhcbCoyDBqq5"
      },
      "execution_count": null,
      "outputs": []
    },
    {
      "cell_type": "code",
      "source": [
        "#QUESTION 14. Write a program that uses the logging module to log both informational and error messages.\n",
        "\n",
        "import logging\n",
        "\n",
        "# Configure logging\n",
        "logging.basicConfig(level=logging.INFO, filename=\"app.log\", filemode=\"a\",\n",
        "                    format=\"%(asctime)s - %(levelname)s - %(message)s\")\n",
        "\n",
        "# Log an informational message\n",
        "logging.info(\"Program started successfully.\")\n",
        "\n",
        "try:\n",
        "    result = 10 / 0\n",
        "except ZeroDivisionError as e:\n",
        "    logging.error(f\"An error occurred: {e}\")\n",
        "\n",
        "# Log another informational message\n",
        "logging.info(\"Program ended.\")\n"
      ],
      "metadata": {
        "id": "mv4Y06zaB_4v"
      },
      "execution_count": null,
      "outputs": []
    },
    {
      "cell_type": "code",
      "source": [
        "#QUESTION 15. Write a Python program that prints the content of a file and handles the case when the file is empty.\n",
        "\n",
        "try:\n",
        "    with open(\"example.txt\", \"r\") as file:\n",
        "        content = file.read()\n",
        "        if content:\n",
        "            print(\"File Content:\")\n",
        "            print(content)\n",
        "        else:\n",
        "            print(\"The file is empty.\")\n",
        "except FileNotFoundError:\n",
        "    print(\"Error: The file does not exist.\")\n"
      ],
      "metadata": {
        "id": "M3eE4qVRCU1_"
      },
      "execution_count": null,
      "outputs": []
    },
    {
      "cell_type": "code",
      "source": [
        "#QUESTION 16. Demonstrate how to use memory profiling to check the memory usage of a small program .\n",
        "\n",
        "\n",
        "Step 1: Install memory_profiler\n",
        "Run in your terminal:\n",
        "\n",
        "wasm\n",
        "Copy\n",
        "Edit\n",
        "pip install memory-profiler\n",
        "Step 2: Write your program with @profile decorator\n",
        "python\n",
        "Copy\n",
        "Edit\n",
        "# memory_profile_demo.py\n",
        "\n",
        "from memory_profiler import profile\n",
        "\n",
        "@profile\n",
        "def create_large_list():\n",
        "    my_list = [i for i in range(1000000)]\n",
        "    return my_list\n",
        "\n",
        "if __name__ == \"__main__\":\n",
        "    create_large_list()\n",
        "Step 3: Run the program using memory profiler\n",
        "In your terminal, execute:\n",
        "\n",
        "nginx\n",
        "Copy\n",
        "Edit\n",
        "python -m memory_profiler memory_profile_demo.py\n",
        "What happens:\n",
        "✔️ The @profile decorator monitors memory usage of create_large_list()\n",
        "✔️ memory_profiler prints line by line memory consumption in your terminal\n",
        "\n",
        "Sample Output (short):\n",
        "pgsql\n",
        "Copy\n",
        "Edit\n",
        "Line #    Mem usage    Increment   Line Contents\n",
        "================================================\n",
        "    4     10.5 MiB     10.5 MiB   @profile\n",
        "    5     50.6 MiB     40.1 MiB   my_list = [i for i in range(1000000)]\n",
        "    6     50.6 MiB      0.0 MiB   return my_list\n",
        "Let me know if you want to integrate this with time profiling (using timeit or cProfile) for your upcoming Python performance analysis practice today.\n",
        "\n",
        "\n",
        "\n",
        "\n",
        "\n",
        "\n",
        "\n",
        "\n"
      ],
      "metadata": {
        "id": "UTDF0TcsCd7w"
      },
      "execution_count": null,
      "outputs": []
    },
    {
      "cell_type": "code",
      "source": [
        "#QUESTION 17 .  Write a Python program to create and write a list of numbers to a file, one number per line\n",
        "\n",
        "# List of numbers\n",
        "numbers = [1, 2, 3, 4, 5]\n",
        "\n",
        "# Open the file for writing\n",
        "with open(\"numbers.txt\", \"w\") as file:\n",
        "    for number in numbers:\n",
        "        file.write(f\"{number}\\n\")\n"
      ],
      "metadata": {
        "id": "UwRO2bzKD0iE"
      },
      "execution_count": null,
      "outputs": []
    },
    {
      "cell_type": "code",
      "source": [
        "#QUESTION 18.  How would you implement a basic logging setup that logs to a file with rotation after 1MB .\n",
        "\n",
        "import logging\n",
        "from logging.handlers import RotatingFileHandler\n",
        "\n",
        "# Create a logger\n",
        "logger = logging.getLogger(\"MyLogger\")\n",
        "logger.setLevel(logging.INFO)\n",
        "\n",
        "# Create a rotating file handler\n",
        "handler = RotatingFileHandler(\"app.log\", maxBytes=1*1024*1024, backupCount=3)\n",
        "handler.setLevel(logging.INFO)\n",
        "\n",
        "# Create a formatter and add it to the handler\n",
        "formatter = logging.Formatter(\"%(asctime\n"
      ],
      "metadata": {
        "id": "Gx5b6kSyEF7m"
      },
      "execution_count": null,
      "outputs": []
    },
    {
      "cell_type": "code",
      "source": [
        "#QUESTION 19 .  Write a program that handles both IndexError and KeyError using a try-except block .\n",
        "\n",
        "my_list = [1, 2, 3]\n",
        "my_dict = {\"a\": 10, \"b\": 20}\n",
        "\n",
        "try:\n",
        "    # Accessing invalid index\n",
        "    print(my_list[5])\n",
        "\n",
        "    # Accessing invalid dictionary key\n",
        "    print(my_dict[\"c\"])\n",
        "\n",
        "except IndexError:\n",
        "    print(\"Error: List index out of range.\")\n",
        "except KeyError:\n",
        "    print(\"Error: Key not found in dictionary.\")\n",
        "\n"
      ],
      "metadata": {
        "id": "zYfWkzH9EYee"
      },
      "execution_count": null,
      "outputs": []
    },
    {
      "cell_type": "code",
      "source": [
        "#QUESTION 20 .  How would you open a file and read its contents using a context manager in Python\n",
        "\n",
        "\n",
        "with open(\"example.txt\", \"r\") as file:\n",
        "    content = file.read()\n",
        "    print(content)\n",
        "\n"
      ],
      "metadata": {
        "id": "jnjuB_31EvUz"
      },
      "execution_count": null,
      "outputs": []
    },
    {
      "cell_type": "code",
      "source": [
        "#QUESTION 21. Write a Python program that reads a file and prints the number of occurrences of a specific word.\n",
        "\n",
        "# Specify the word to count\n",
        "word_to_count = \"Python\"\n",
        "\n",
        "# Open the file for reading\n",
        "with open(\"example.txt\", \"r\") as file:\n",
        "    content = file.read()\n",
        "\n",
        "    # Count occurrences (case-sensitive)\n",
        "    count = content.count(word_to_count)\n",
        "\n",
        "    print(f\"The word '{word_to_count}' occurs {count} times in the file.\")\n",
        "\n"
      ],
      "metadata": {
        "id": "_B8tMZ9kFB2U"
      },
      "execution_count": null,
      "outputs": []
    },
    {
      "cell_type": "code",
      "source": [
        "#QUESTION 22. How can you check if a file is empty before attempting to read its contents ?\n",
        "\n",
        "import os\n",
        "\n",
        "if os.stat(\"example.txt\").st_size == 0:\n",
        "    print(\"The file is empty.\")\n",
        "else:\n",
        "    with open(\"example.txt\", \"r\") as file:\n",
        "        content = file.read()\n",
        "        print(content)\n"
      ],
      "metadata": {
        "id": "0xHefmtAFW2y"
      },
      "execution_count": null,
      "outputs": []
    },
    {
      "cell_type": "code",
      "source": [
        "#QUESTION 23 .  Write a Python program that writes to a log file when an error occurs during file handling .\n",
        "\n",
        "import logging\n",
        "\n",
        "# Configure logging\n",
        "logging.basicConfig(filename=\"error_log.txt\", level=logging.ERROR,\n",
        "                    format=\"%(asctime)s - %(levelname)s - %(message)s\")\n",
        "\n",
        "try:\n",
        "    with open(\"nonexistent_file.txt\", \"r\") as file:\n",
        "        content = file.read()\n",
        "        print(content)\n",
        "except FileNotFoundError as e:\n",
        "    logging.error(f\"File not found: {e}\")\n",
        "    print(\"An error occurred. Check error_log.txt for details.\")\n",
        "\n"
      ],
      "metadata": {
        "id": "0NL-GeaDFqK6"
      },
      "execution_count": null,
      "outputs": []
    },
    {
      "cell_type": "markdown",
      "source": [],
      "metadata": {
        "id": "shOO8pJHSxCO"
      }
    },
    {
      "cell_type": "markdown",
      "source": [],
      "metadata": {
        "id": "CBkJjWXjSF_L"
      }
    },
    {
      "cell_type": "markdown",
      "source": [],
      "metadata": {
        "id": "8sQKkYzsOrGv"
      }
    },
    {
      "cell_type": "markdown",
      "source": [],
      "metadata": {
        "id": "YISzjyhWOjp5"
      }
    }
  ]
}